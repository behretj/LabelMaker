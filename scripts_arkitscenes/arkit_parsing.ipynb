{
 "cells": [
  {
   "cell_type": "code",
   "execution_count": 29,
   "id": "c51c11a7",
   "metadata": {},
   "outputs": [
    {
     "name": "stdout",
     "output_type": "stream",
     "text": [
      "Jupyter environment detected. Enabling Open3D WebVisualizer.\n",
      "[Open3D INFO] WebRTC GUI backend enabled.\n",
      "[Open3D INFO] WebRTCWindowSystem: HTTP handshake server disabled.\n"
     ]
    }
   ],
   "source": [
    "import os\n",
    "import cv2\n",
    "\n",
    "import numpy as np\n",
    "import open3d as o3d\n",
    "import matplotlib.pyplot as plt\n",
    "\n",
    "from PIL import Image"
   ]
  },
  {
   "cell_type": "code",
   "execution_count": 19,
   "id": "a9f02e2f",
   "metadata": {},
   "outputs": [],
   "source": [
    "def plot_images(images):\n",
    "    \n",
    "    n_images = len(images)\n",
    "    fig, ax = plt.subplots(1, n_images)\n",
    "    \n",
    "    for i, img in enumerate(images):\n",
    "        ax[i].imshow(img)\n",
    "        ax[i].set_xticks([])\n",
    "        ax[i].set_yticks([])\n",
    "        \n",
    "    plt.tight_layout()\n",
    "    plt.show()\n",
    "    \n",
    "    \n",
    "\n",
    "    "
   ]
  },
  {
   "cell_type": "code",
   "execution_count": 132,
   "id": "ceed5f41",
   "metadata": {},
   "outputs": [],
   "source": [
    "PATH = '/home/weders/scratch/scratch/scannetter/arkit/raw/Validation'\n",
    "SCENE = '42897688'"
   ]
  },
  {
   "cell_type": "code",
   "execution_count": 133,
   "id": "d4bb11e9",
   "metadata": {},
   "outputs": [],
   "source": [
    "scene_path = os.path.join(PATH, SCENE)\n",
    "image_path = os.path.join(scene_path, 'vga_wide')\n",
    "depth_path = os.path.join(scene_path, 'highres_depth')\n",
    "intrinsics_path = os.path.join(scene_path, 'vga_wide_intrinsics')\n",
    "pose_path = os.path.join(scene_path, 'lowres_wide.traj')"
   ]
  },
  {
   "cell_type": "code",
   "execution_count": 134,
   "id": "4a610a87",
   "metadata": {},
   "outputs": [],
   "source": [
    "def axis_angle_to_mat(angles):\n",
    "    matrix, jac = cv2.Rodrigues(angles)\n",
    "    return matrix\n",
    "\n",
    "def load_intrinsics(file):\n",
    "    # as define here https://github.com/apple/ARKitScenes/blob/951af73d20406acf608061c16774f770c61b1405/threedod/benchmark_scripts/utils/tenFpsDataLoader.py#L46\n",
    "    w, h, fx, fy, hw, hh = np.loadtxt(file)\n",
    "    return np.asarray([[fx, 0, hw], [0, fy, hh], [0, 0, 1]])\n",
    "\n",
    "\n",
    "def load_poses(file):\n",
    "    trajectory = {}\n",
    "    with open(file, 'r') as f:\n",
    "        for line in f:\n",
    "            elements = line.rstrip().split(' ')\n",
    "            \n",
    "            timestamp = round(float(elements[0]), 3)\n",
    "            rotation = axis_angle_to_mat(np.asarray([float(e) for e in elements[1:4]]))\n",
    "            translation = np.asarray([float(e) for e in elements[4:]])\n",
    "            \n",
    "            pose = np.eye(4)\n",
    "            pose[:3, :3] = rotation\n",
    "            pose[:3, -1] = translation\n",
    "            \n",
    "            trajectory[timestamp] = {'rotation': rotation, 'translation': translation, 'pose': pose}\n",
    "    return trajectory\n",
    "    \n",
    "poses = load_poses(pose_path)\n",
    "pose_timestamps = list(poses)\n",
    "\n",
    "\n",
    "def get_closest_timestamp(timestamp, pose_timestamps):\n",
    "    closest_timestamp = np.infty\n",
    "    closest_delta = np.infty\n",
    "    \n",
    "    for ts in pose_timestamps:\n",
    "        delta = abs(timestamp - ts)\n",
    "        if delta < closest_delta:\n",
    "            closest_timestamp = ts\n",
    "            closest_delta = delta\n",
    "    return closest_timestamp\n",
    "        \n",
    "    "
   ]
  },
  {
   "cell_type": "code",
   "execution_count": 135,
   "id": "77092adc",
   "metadata": {},
   "outputs": [],
   "source": [
    "from tqdm import tqdm"
   ]
  },
  {
   "cell_type": "code",
   "execution_count": 136,
   "id": "148d843f",
   "metadata": {},
   "outputs": [
    {
     "name": "stderr",
     "output_type": "stream",
     "text": [
      "100%|████████████████████████████████████| 540/540 [05:23<00:00,  1.67it/s]\n"
     ]
    },
    {
     "data": {
      "text/plain": [
       "True"
      ]
     },
     "execution_count": 136,
     "metadata": {},
     "output_type": "execute_result"
    }
   ],
   "source": [
    "tsdf = o3d.pipelines.integration.ScalableTSDFVolume(sdf_trunc=0.06, \n",
    "                                                    voxel_length=0.02, \n",
    "                                                    color_type=o3d.pipelines.integration.TSDFVolumeColorType.RGB8)\n",
    "\n",
    "intrinsics_loaded = False\n",
    "\n",
    "image_timestamps = [float(f.split('_')[-1].replace('.png', '')) for f in os.listdir(image_path)]\n",
    "\n",
    "files = os.listdir(depth_path)\n",
    "pcds = None\n",
    "\n",
    "for file in  tqdm(files, total=len(files)):\n",
    "    \n",
    "    depth_timestamp = float(file.split('_')[-1].replace('.png', ''))\n",
    "\n",
    "    image_file = get_closest_timestamp(depth_timestamp, image_timestamps)    \n",
    "    image_file = f\"{SCENE}_{image_file:.3f}.png\"\n",
    "    \n",
    "    if not os.path.exists(os.path.join(image_path, image_file)):\n",
    "        print(image_file, 'not found')\n",
    "        continue\n",
    "    \n",
    "    if not intrinsics_loaded:\n",
    "        intrinsics = load_intrinsics(os.path.join(intrinsics_path, image_file.replace('png', 'pincam')))\n",
    "        intrinsics = o3d.camera.PinholeCameraIntrinsic(width=w, height=h, fx=intrinsics[0, 0], fy=intrinsics[1, 1], cx=intrinsics[0, 2], cy=intrinsics[1, 2])\n",
    "        intrinsics_loaded = False\n",
    "        \n",
    "    image = np.asarray(Image.open(os.path.join(image_path, image_file))).astype(np.uint8)\n",
    "    depth = np.asarray(Image.open(os.path.join(depth_path, file))).astype(np.float32) / 1000.\n",
    "\n",
    "    h, w, _ = image.shape\n",
    "    \n",
    "    depth = cv2.resize(depth, (w, h))\n",
    "    \n",
    "    timestamp = float(file.replace('.png', '').split('_')[-1])\n",
    "    c_ts = get_closest_timestamp(timestamp, pose_timestamps)\n",
    "    \n",
    "    if c_ts == np.infty:\n",
    "        print('No matching pose')\n",
    "        continue\n",
    "    \n",
    "    pose = poses[c_ts]['pose']\n",
    "#     plot_images([image, depth])\n",
    "    \n",
    "    image = o3d.geometry.Image(image)\n",
    "    depth = o3d.geometry.Image(depth)\n",
    "    \n",
    "    rgbd = o3d.geometry.RGBDImage.create_from_color_and_depth(image, \n",
    "                                                              depth,\n",
    "                                                              depth_scale=1.0,\n",
    "                                                              depth_trunc=3.,\n",
    "                                                              convert_rgb_to_intensity=False)\n",
    "    \n",
    "    if pcds is None:\n",
    "        \n",
    "        pcds = o3d.geometry.PointCloud.create_from_rgbd_image(rgbd, intrinsics, pose).voxel_down_sample(0.04)\n",
    "    \n",
    "    else:\n",
    "        pcds = pcds + o3d.geometry.PointCloud.create_from_rgbd_image(rgbd, intrinsics, pose)\n",
    "        pcds = pcds.voxel_down_sample(0.01)\n",
    "    \n",
    "    \n",
    "    \n",
    "    \n",
    "    \n",
    "o3d.io.write_point_cloud(f'{SCENE}.ply', pcds)"
   ]
  },
  {
   "cell_type": "code",
   "execution_count": null,
   "id": "f32e83fc",
   "metadata": {},
   "outputs": [],
   "source": []
  }
 ],
 "metadata": {
  "kernelspec": {
   "display_name": "scannetter",
   "language": "python",
   "name": "scannetter"
  },
  "language_info": {
   "codemirror_mode": {
    "name": "ipython",
    "version": 3
   },
   "file_extension": ".py",
   "mimetype": "text/x-python",
   "name": "python",
   "nbconvert_exporter": "python",
   "pygments_lexer": "ipython3",
   "version": "3.8.16"
  }
 },
 "nbformat": 4,
 "nbformat_minor": 5
}
