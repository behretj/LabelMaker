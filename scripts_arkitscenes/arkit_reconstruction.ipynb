{
 "cells": [
  {
   "cell_type": "code",
   "execution_count": 1,
   "id": "3d57f16d",
   "metadata": {},
   "outputs": [
    {
     "name": "stdout",
     "output_type": "stream",
     "text": [
      "Jupyter environment detected. Enabling Open3D WebVisualizer.\n",
      "[Open3D INFO] WebRTC GUI backend enabled.\n",
      "[Open3D INFO] WebRTCWindowSystem: HTTP handshake server disabled.\n"
     ]
    }
   ],
   "source": [
    "import os\n",
    "import cv2\n",
    "import open3d as o3d\n",
    "import numpy as np\n",
    "\n",
    "from PIL import Image\n",
    "from tqdm import tqdm"
   ]
  },
  {
   "cell_type": "code",
   "execution_count": 2,
   "id": "4f6af8f3",
   "metadata": {},
   "outputs": [],
   "source": [
    "PATH = '/home/weders/scratch/scratch/scannetter/arkit/raw/Validation'\n",
    "SCENE = '42445991'\n",
    "\n",
    "# PATH = '/home/weders/scratch/scratch/scannetter'\n",
    "# SCENE = 'scene0164_02'"
   ]
  },
  {
   "cell_type": "code",
   "execution_count": 3,
   "id": "9285c842",
   "metadata": {},
   "outputs": [],
   "source": [
    "scene_path = os.path.join(PATH, SCENE)\n",
    "image_path = os.path.join(scene_path, 'color')\n",
    "depth_path = os.path.join(scene_path, 'depth')\n",
    "intrinsics_path = os.path.join(scene_path, 'intrinsic')\n",
    "pose_path = os.path.join(scene_path, 'pose')"
   ]
  },
  {
   "cell_type": "code",
   "execution_count": 13,
   "id": "764e1bd1",
   "metadata": {},
   "outputs": [
    {
     "name": "stderr",
     "output_type": "stream",
     "text": [
      "100%|██████████████████████████████████████████████████████████████████████| 2517/2517 [00:15<00:00, 162.96it/s]\n"
     ]
    },
    {
     "data": {
      "text/plain": [
       "True"
      ]
     },
     "execution_count": 13,
     "metadata": {},
     "output_type": "execute_result"
    }
   ],
   "source": [
    "tsdf = o3d.pipelines.integration.ScalableTSDFVolume(sdf_trunc=0.06, \n",
    "                                                    voxel_length=0.02, \n",
    "                                                    color_type=o3d.pipelines.integration.TSDFVolumeColorType.RGB8)\n",
    "\n",
    "intrinsics_loaded = False\n",
    "\n",
    "files = sorted(os.listdir(depth_path), key=lambda x: int(x.split('.')[0]))\n",
    "pcds = None\n",
    "resize_image = False\n",
    "\n",
    "for idx, file in  tqdm(enumerate(files), total=len(files)):\n",
    "    \n",
    "    if idx % 5 != 0:\n",
    "        continue\n",
    "    \n",
    "    if not os.path.exists(os.path.join(image_path, file.replace('.png', '.jpg'))):\n",
    "        print(file, 'not found')\n",
    "        continue\n",
    "        \n",
    "    image = np.asarray(Image.open(os.path.join(image_path, file.replace('.png', '.jpg')))).astype(np.uint8)\n",
    "    depth = np.asarray(Image.open(os.path.join(depth_path, file))).astype(np.float32) / 1000.    \n",
    "    \n",
    "    if resize_image:\n",
    "        h, w = depth.shape\n",
    "        image = cv2.resize(image, (w, h))\n",
    "    else:\n",
    "        h, w, _ = image.shape\n",
    "        depth = cv2.resize(depth, (w, h))\n",
    "    \n",
    "    if not intrinsics_loaded:\n",
    "        intrinsics = np.loadtxt(intrinsics_path + '/intrinsic_depth.txt')\n",
    "        intrinsics = o3d.camera.PinholeCameraIntrinsic(width=w, height=h, fx=intrinsics[0, 0], fy=intrinsics[1, 1], cx=intrinsics[0, 2], cy=intrinsics[1, 2])\n",
    "        intrinsics_loaded = False\n",
    "    \n",
    "    pose_file = os.path.join(pose_path, file.replace('.png', '.txt'))\n",
    "    pose = np.loadtxt(pose_file)\n",
    "    # pose = np.linalg.inv(pose)\n",
    "    \n",
    "    image = o3d.geometry.Image(image)\n",
    "    depth = o3d.geometry.Image(depth)\n",
    "    \n",
    "    rgbd = o3d.geometry.RGBDImage.create_from_color_and_depth(image, \n",
    "                                                              depth,\n",
    "                                                              depth_scale=1.0,\n",
    "                                                              depth_trunc=3.,\n",
    "                                                              convert_rgb_to_intensity=False)\n",
    "    \n",
    "    # if pcds is None:\n",
    "        \n",
    "    #    pcds = o3d.geometry.PointCloud.create_from_rgbd_image(rgbd, intrinsics, np.linalg.inv(pose))\n",
    "    \n",
    "    # else:\n",
    "    #    pcds = pcds + o3d.geometry.PointCloud.create_from_rgbd_image(rgbd, intrinsics, np.linalg.inv(pose))\n",
    "    #    # pcds = pcds.voxel_down_sample(0.01)\n",
    "    \n",
    "    tsdf.integrate(rgbd, intrinsics, np.linalg.inv(pose))\n",
    "    \n",
    "\n",
    "    \n",
    "\n",
    "mesh = tsdf.extract_triangle_mesh()\n",
    "o3d.io.write_triangle_mesh(f'{SCENE}.ply', mesh)"
   ]
  },
  {
   "cell_type": "code",
   "execution_count": null,
   "id": "48e0dfd8",
   "metadata": {},
   "outputs": [],
   "source": []
  }
 ],
 "metadata": {
  "kernelspec": {
   "display_name": "scannetter",
   "language": "python",
   "name": "scannetter"
  },
  "language_info": {
   "codemirror_mode": {
    "name": "ipython",
    "version": 3
   },
   "file_extension": ".py",
   "mimetype": "text/x-python",
   "name": "python",
   "nbconvert_exporter": "python",
   "pygments_lexer": "ipython3",
   "version": "3.8.16"
  }
 },
 "nbformat": 4,
 "nbformat_minor": 5
}
