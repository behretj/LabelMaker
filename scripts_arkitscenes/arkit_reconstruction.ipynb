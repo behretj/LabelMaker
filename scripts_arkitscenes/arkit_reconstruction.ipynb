{
 "cells": [
  {
   "cell_type": "code",
   "execution_count": 11,
   "id": "3d57f16d",
   "metadata": {
    "scrolled": true
   },
   "outputs": [],
   "source": [
    "import os\n",
    "import cv2\n",
    "import open3d as o3d\n",
    "import numpy as np\n",
    "\n",
    "from PIL import Image\n",
    "from tqdm import tqdm"
   ]
  },
  {
   "cell_type": "code",
   "execution_count": 24,
   "id": "4f6af8f3",
   "metadata": {
    "scrolled": true
   },
   "outputs": [],
   "source": [
    "PATH = '/home/weders/scratch/scratch/scannetter/arkit/raw/Validation'\n",
    "SCENE = '42445991'\n",
    "\n",
    "# PATH = '/home/weders/scratch/scratch/scannetter'\n",
    "# SCENE = 'scene0164_02'"
   ]
  },
  {
   "cell_type": "code",
   "execution_count": 25,
   "id": "9285c842",
   "metadata": {
    "scrolled": true
   },
   "outputs": [],
   "source": [
    "scene_path = os.path.join(PATH, SCENE)\n",
    "image_path = os.path.join(scene_path, 'color')\n",
    "depth_path = os.path.join(scene_path, 'depth')\n",
    "intrinsics_path = os.path.join(scene_path, 'intrinsic')\n",
    "pose_path = os.path.join(scene_path, 'pose')"
   ]
  },
  {
   "cell_type": "code",
   "execution_count": 26,
   "id": "764e1bd1",
   "metadata": {
    "scrolled": true
   },
   "outputs": [
    {
     "name": "stderr",
     "output_type": "stream",
     "text": [
      "100%|██████████████████████████████████████████████████████████████████████████████████████████████████████████████████████████████████████████████████████████████████████████████████████████████████████████████████████████████████████████████████| 2517/2517 [00:34<00:00, 72.38it/s]\n"
     ]
    },
    {
     "data": {
      "text/plain": [
       "True"
      ]
     },
     "execution_count": 26,
     "metadata": {},
     "output_type": "execute_result"
    }
   ],
   "source": [
    "tsdf = o3d.pipelines.integration.ScalableTSDFVolume(sdf_trunc=0.03, \n",
    "                                                    voxel_length=0.01, \n",
    "                                                    color_type=o3d.pipelines.integration.TSDFVolumeColorType.RGB8)\n",
    "\n",
    "intrinsics_loaded = False\n",
    "\n",
    "files = sorted(os.listdir(depth_path), key=lambda x: int(x.split('.')[0]))\n",
    "pcds = None\n",
    "resize_image = False\n",
    "\n",
    "for idx, file in  tqdm(enumerate(files), total=len(files)):\n",
    "    \n",
    "    if idx % 5 != 0:\n",
    "        continue\n",
    "    \n",
    "    if not os.path.exists(os.path.join(image_path, file.replace('.png', '.jpg'))):\n",
    "        print(file, 'not found')\n",
    "        continue\n",
    "        \n",
    "    image = np.asarray(Image.open(os.path.join(image_path, file.replace('.png', '.jpg')))).astype(np.uint8)\n",
    "    depth = np.asarray(Image.open(os.path.join(depth_path, file))).astype(np.float32) / 1000.    \n",
    "    \n",
    "    if resize_image:\n",
    "        h, w = depth.shape\n",
    "        image = cv2.resize(image, (w, h))\n",
    "    else:\n",
    "        h, w, _ = image.shape\n",
    "        depth = cv2.resize(depth, (w, h))\n",
    "    \n",
    "    if not intrinsics_loaded:\n",
    "        intrinsics = np.loadtxt(intrinsics_path + '/intrinsic_depth.txt')\n",
    "        intrinsics = o3d.camera.PinholeCameraIntrinsic(width=w, height=h, fx=intrinsics[0, 0], fy=intrinsics[1, 1], cx=intrinsics[0, 2], cy=intrinsics[1, 2])\n",
    "        intrinsics_loaded = False\n",
    "    \n",
    "    pose_file = os.path.join(pose_path, file.replace('.png', '.txt'))\n",
    "    pose = np.loadtxt(pose_file)\n",
    "    # pose = np.linalg.inv(pose)\n",
    "    \n",
    "    image = o3d.geometry.Image(image)\n",
    "    depth = o3d.geometry.Image(depth)\n",
    "    \n",
    "    rgbd = o3d.geometry.RGBDImage.create_from_color_and_depth(image, \n",
    "                                                              depth,\n",
    "                                                              depth_scale=1.0,\n",
    "                                                              depth_trunc=3.,\n",
    "                                                              convert_rgb_to_intensity=False)\n",
    "    \n",
    "    # if pcds is None:\n",
    "        \n",
    "    #    pcds = o3d.geometry.PointCloud.create_from_rgbd_image(rgbd, intrinsics, np.linalg.inv(pose))\n",
    "    \n",
    "    # else:\n",
    "    #    pcds = pcds + o3d.geometry.PointCloud.create_from_rgbd_image(rgbd, intrinsics, np.linalg.inv(pose))\n",
    "    #    # pcds = pcds.voxel_down_sample(0.01)\n",
    "    \n",
    "    tsdf.integrate(rgbd, intrinsics, np.linalg.inv(pose))\n",
    "    \n",
    "\n",
    "    \n",
    "\n",
    "mesh = tsdf.extract_triangle_mesh()\n",
    "o3d.io.write_triangle_mesh(f'{PATH}/{SCENE}/mesh_tsdf.ply', mesh)"
   ]
  },
  {
   "cell_type": "code",
   "execution_count": 7,
   "id": "48e0dfd8",
   "metadata": {
    "scrolled": true
   },
   "outputs": [
    {
     "data": {
      "text/plain": [
       "True"
      ]
     },
     "execution_count": 7,
     "metadata": {},
     "output_type": "execute_result"
    }
   ],
   "source": [
    "o3d.io.write_triangle_mesh(f'{PATH}/{SCENE}/mesh_tsdf.ply', mesh)"
   ]
  },
  {
   "cell_type": "code",
   "execution_count": 6,
   "id": "6b47d576",
   "metadata": {},
   "outputs": [
    {
     "ename": "TypeError",
     "evalue": "(): incompatible function arguments. The following argument types are supported:\n    1. (self: open3d.cuda.pybind.geometry.TriangleMesh, arg0: open3d.cuda.pybind.utility.Vector3dVector) -> None\n\nInvoked with: TriangleMesh with 2450150 points and 4587817 triangles., std::vector<Eigen::Vector3i> with 2450150 elements.\nUse numpy.asarray() to access data.\n\nDid you forget to `#include <pybind11/stl.h>`? Or <pybind11/complex.h>,\n<pybind11/functional.h>, <pybind11/chrono.h>, etc. Some automatic\nconversions are optional and require extra headers to be included\nwhen compiling your pybind11 module.",
     "output_type": "error",
     "traceback": [
      "\u001b[0;31m---------------------------------------------------------------------------\u001b[0m",
      "\u001b[0;31mTypeError\u001b[0m                                 Traceback (most recent call last)",
      "Cell \u001b[0;32mIn[6], line 1\u001b[0m\n\u001b[0;32m----> 1\u001b[0m \u001b[43mmesh\u001b[49m\u001b[38;5;241;43m.\u001b[39;49m\u001b[43mvertex_colors\u001b[49m \u001b[38;5;241m=\u001b[39m o3d\u001b[38;5;241m.\u001b[39mutility\u001b[38;5;241m.\u001b[39mVector3iVector((np\u001b[38;5;241m.\u001b[39masarray(mesh\u001b[38;5;241m.\u001b[39mvertex_colors) \u001b[38;5;241m*\u001b[39m \u001b[38;5;241m255\u001b[39m)\u001b[38;5;241m.\u001b[39mastype(np\u001b[38;5;241m.\u001b[39muint8))\n",
      "\u001b[0;31mTypeError\u001b[0m: (): incompatible function arguments. The following argument types are supported:\n    1. (self: open3d.cuda.pybind.geometry.TriangleMesh, arg0: open3d.cuda.pybind.utility.Vector3dVector) -> None\n\nInvoked with: TriangleMesh with 2450150 points and 4587817 triangles., std::vector<Eigen::Vector3i> with 2450150 elements.\nUse numpy.asarray() to access data.\n\nDid you forget to `#include <pybind11/stl.h>`? Or <pybind11/complex.h>,\n<pybind11/functional.h>, <pybind11/chrono.h>, etc. Some automatic\nconversions are optional and require extra headers to be included\nwhen compiling your pybind11 module."
     ]
    }
   ],
   "source": []
  },
  {
   "cell_type": "code",
   "execution_count": 9,
   "id": "94548d7c",
   "metadata": {},
   "outputs": [],
   "source": [
    "from plyfile import PlyData"
   ]
  },
  {
   "cell_type": "code",
   "execution_count": 10,
   "id": "a4c6edf1",
   "metadata": {},
   "outputs": [
    {
     "name": "stdout",
     "output_type": "stream",
     "text": [
      "ply\n",
      "format binary_little_endian 1.0\n",
      "comment Created by Open3D\n",
      "element vertex 2450150\n",
      "property double x\n",
      "property double y\n",
      "property double z\n",
      "property uchar red\n",
      "property uchar green\n",
      "property uchar blue\n",
      "element face 4587817\n",
      "property list uchar uint vertex_indices\n",
      "end_header\n"
     ]
    }
   ],
   "source": [
    "plydata = PlyData.read(f'{PATH}/{SCENE}/mesh_tsdf.ply')\n",
    "print(plydata)"
   ]
  },
  {
   "cell_type": "code",
   "execution_count": 18,
   "id": "8340eb97",
   "metadata": {},
   "outputs": [
    {
     "ename": "OSError",
     "evalue": "[Errno 14] Bad address",
     "output_type": "error",
     "traceback": [
      "\u001b[0;31m---------------------------------------------------------------------------\u001b[0m",
      "\u001b[0;31mOSError\u001b[0m                                   Traceback (most recent call last)",
      "Cell \u001b[0;32mIn[18], line 2\u001b[0m\n\u001b[1;32m      1\u001b[0m \u001b[38;5;28;01mwith\u001b[39;00m \u001b[38;5;28mopen\u001b[39m(\u001b[38;5;124mf\u001b[39m\u001b[38;5;124m'\u001b[39m\u001b[38;5;124m./mesh_tsdf_2.ply\u001b[39m\u001b[38;5;124m'\u001b[39m, mode\u001b[38;5;241m=\u001b[39m\u001b[38;5;124m'\u001b[39m\u001b[38;5;124mwb\u001b[39m\u001b[38;5;124m'\u001b[39m) \u001b[38;5;28;01mas\u001b[39;00m f:\n\u001b[0;32m----> 2\u001b[0m     \u001b[43mplydata\u001b[49m\u001b[38;5;241;43m.\u001b[39;49m\u001b[43mwrite\u001b[49m\u001b[43m(\u001b[49m\u001b[43mf\u001b[49m\u001b[43m)\u001b[49m\n",
      "File \u001b[0;32m~/anaconda3/envs/scannetter/lib/python3.8/site-packages/plyfile.py:212\u001b[0m, in \u001b[0;36mPlyData.write\u001b[0;34m(self, stream)\u001b[0m\n\u001b[1;32m    210\u001b[0m         stream\u001b[38;5;241m.\u001b[39mwrite(\u001b[38;5;124m'\u001b[39m\u001b[38;5;130;01m\\n\u001b[39;00m\u001b[38;5;124m'\u001b[39m)\n\u001b[1;32m    211\u001b[0m     \u001b[38;5;28;01mfor\u001b[39;00m elt \u001b[38;5;129;01min\u001b[39;00m \u001b[38;5;28mself\u001b[39m:\n\u001b[0;32m--> 212\u001b[0m         \u001b[43melt\u001b[49m\u001b[38;5;241;43m.\u001b[39;49m\u001b[43m_write\u001b[49m\u001b[43m(\u001b[49m\u001b[43mstream\u001b[49m\u001b[43m,\u001b[49m\u001b[43m \u001b[49m\u001b[38;5;28;43mself\u001b[39;49m\u001b[38;5;241;43m.\u001b[39;49m\u001b[43mtext\u001b[49m\u001b[43m,\u001b[49m\u001b[43m \u001b[49m\u001b[38;5;28;43mself\u001b[39;49m\u001b[38;5;241;43m.\u001b[39;49m\u001b[43mbyte_order\u001b[49m\u001b[43m)\u001b[49m\n\u001b[1;32m    213\u001b[0m \u001b[38;5;28;01mfinally\u001b[39;00m:\n\u001b[1;32m    214\u001b[0m     \u001b[38;5;28;01mif\u001b[39;00m must_close:\n",
      "File \u001b[0;32m~/anaconda3/envs/scannetter/lib/python3.8/site-packages/plyfile.py:549\u001b[0m, in \u001b[0;36mPlyElement._write\u001b[0;34m(self, stream, text, byte_order)\u001b[0m\n\u001b[1;32m    545\u001b[0m     \u001b[38;5;28mself\u001b[39m\u001b[38;5;241m.\u001b[39m_write_bin(stream, byte_order)\n\u001b[1;32m    546\u001b[0m \u001b[38;5;28;01melse\u001b[39;00m:\n\u001b[1;32m    547\u001b[0m     \u001b[38;5;66;03m# no list properties, so serialization is\u001b[39;00m\n\u001b[1;32m    548\u001b[0m     \u001b[38;5;66;03m# straightforward.\u001b[39;00m\n\u001b[0;32m--> 549\u001b[0m     \u001b[43mstream\u001b[49m\u001b[38;5;241;43m.\u001b[39;49m\u001b[43mwrite\u001b[49m\u001b[43m(\u001b[49m\u001b[38;5;28;43mself\u001b[39;49m\u001b[38;5;241;43m.\u001b[39;49m\u001b[43mdata\u001b[49m\u001b[38;5;241;43m.\u001b[39;49m\u001b[43mastype\u001b[49m\u001b[43m(\u001b[49m\u001b[38;5;28;43mself\u001b[39;49m\u001b[38;5;241;43m.\u001b[39;49m\u001b[43mdtype\u001b[49m\u001b[43m(\u001b[49m\u001b[43mbyte_order\u001b[49m\u001b[43m)\u001b[49m\u001b[43m,\u001b[49m\n\u001b[1;32m    550\u001b[0m \u001b[43m                                  \u001b[49m\u001b[43mcopy\u001b[49m\u001b[38;5;241;43m=\u001b[39;49m\u001b[38;5;28;43;01mFalse\u001b[39;49;00m\u001b[43m)\u001b[49m\u001b[38;5;241;43m.\u001b[39;49m\u001b[43mdata\u001b[49m\u001b[43m)\u001b[49m\n",
      "\u001b[0;31mOSError\u001b[0m: [Errno 14] Bad address"
     ]
    }
   ],
   "source": [
    "with open(f'./mesh_tsdf_2.ply', mode='wb') as f:\n",
    "    plydata.write(f)"
   ]
  },
  {
   "cell_type": "code",
   "execution_count": null,
   "id": "f01efe3e",
   "metadata": {},
   "outputs": [],
   "source": []
  }
 ],
 "metadata": {
  "kernelspec": {
   "display_name": "scannetter",
   "language": "python",
   "name": "scannetter"
  },
  "language_info": {
   "codemirror_mode": {
    "name": "ipython",
    "version": 3
   },
   "file_extension": ".py",
   "mimetype": "text/x-python",
   "name": "python",
   "nbconvert_exporter": "python",
   "pygments_lexer": "ipython3",
   "version": "3.8.16"
  }
 },
 "nbformat": 4,
 "nbformat_minor": 5
}
