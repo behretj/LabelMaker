{
 "cells": [
  {
   "cell_type": "code",
   "execution_count": null,
   "metadata": {},
   "outputs": [],
   "source": [
    "import cv2\n",
    "import os\n",
    "\n",
    "import numpy as np\n",
    "import matplotlib.pyplot as plt\n",
    "\n",
    "from pathlib import Path\n",
    "from typing import List, Tuple\n",
    "\n",
    "from labelmaker.consensus import VALID_LABEL_SPACES\n",
    "from labelmaker.label_data import get_nyu40, get_scannet200, get_wordnet, get_ade150\n"
   ]
  },
  {
   "cell_type": "code",
   "execution_count": null,
   "metadata": {},
   "outputs": [],
   "source": [
    "SCENE_ID=47333462\n",
    "# WORKSPACE_DIR = f'/home/weders/scratch/scratch/LabelMaker/arkitscenes/{SCENE_ID}'\n",
    "WORKSPACE_DIR = '/scratch/quanta/Experiments/LabelMaker/arkit_test_scene'\n"
   ]
  },
  {
   "cell_type": "code",
   "execution_count": null,
   "metadata": {},
   "outputs": [],
   "source": [
    "# load all model folders\n",
    "model_folders = [x for x in os.listdir(os.path.join(WORKSPACE_DIR, 'intermediate')) if x.split('_')[0] in VALID_LABEL_SPACES] \n",
    "if 'consensus' in os.listdir(os.path.join(WORKSPACE_DIR, 'intermediate')):\n",
    "    model_folders.append('consensus')\n"
   ]
  },
  {
   "cell_type": "code",
   "execution_count": null,
   "metadata": {},
   "outputs": [],
   "source": [
    "print(model_folders)\n"
   ]
  },
  {
   "cell_type": "code",
   "execution_count": null,
   "metadata": {},
   "outputs": [],
   "source": [
    "# load all images\n",
    "image_files = sorted([Path(x).stem for x in os.listdir(os.path.join(WORKSPACE_DIR, 'color')) if x.endswith('.jpg')])\n"
   ]
  },
  {
   "cell_type": "code",
   "execution_count": null,
   "metadata": {},
   "outputs": [],
   "source": [
    "# visalization options\n",
    "vis_freq = 200\n"
   ]
  },
  {
   "cell_type": "code",
   "execution_count": null,
   "metadata": {},
   "outputs": [],
   "source": [
    "COLOR_MAPS = {\n",
    "    \n",
    "    'ade20k': get_ade150,\n",
    "    'scannet200': get_scannet200,\n",
    "    'nyu40': get_nyu40,\n",
    "    'wordnet': get_wordnet,\n",
    "    'consensus': get_wordnet\n",
    "}\n",
    "\n",
    "def load_image(path: str) -> np.ndarray:\n",
    "    \"\"\"Load an image from the workspace.\n",
    "    \n",
    "    Args:\n",
    "        image_id (str): image id\n",
    "    \n",
    "    Returns:\n",
    "        np.ndarray: image\n",
    "    \"\"\"\n",
    "    image = cv2.imread(path)\n",
    "    image = cv2.cvtColor(image, cv2.COLOR_BGR2RGB)\n",
    "    return image\n",
    "  \n",
    "  \n",
    "def load_label(path: str) -> np.ndarray:\n",
    "    \"\"\"Load a label from the workspace.\n",
    "    \n",
    "    Args:\n",
    "        label_space (str): label space\n",
    "        image_id (str): image id\n",
    "    \n",
    "    Returns:\n",
    "        np.ndarray: label\n",
    "    \"\"\"\n",
    "    label = cv2.imread(path, cv2.IMREAD_UNCHANGED)\n",
    "    return label\n",
    "\n",
    "\n",
    "\n",
    "def colorize_label(label: np.ndarray, label_space: str) -> np.ndarray:\n",
    "    \"\"\"Colorize a label image for visualization.\n",
    "    \n",
    "    Args:\n",
    "        label (np.ndarray): label image\n",
    "    \n",
    "    Returns:\n",
    "        np.ndarray: colorized label image\n",
    "    \"\"\"\n",
    "    \n",
    "    if label_space not in COLOR_MAPS:\n",
    "        raise ValueError(f'Invalid label space: {label_space}')\n",
    "    \n",
    "    color_maps = COLOR_MAPS[label_space]()\n",
    "        \n",
    "    label = label.astype(np.uint8)\n",
    "    \n",
    "    label_colorized = np.zeros((label.shape[0], label.shape[1], 3), dtype=np.uint8)\n",
    "    \n",
    "    for ui in np.unique(label):\n",
    "        label_colorized[label == ui] = color_maps[ui]['color']\n",
    "        \n",
    "    return label_colorized\n"
   ]
  },
  {
   "cell_type": "code",
   "execution_count": null,
   "metadata": {},
   "outputs": [],
   "source": [
    "for idx, f in enumerate(image_files):\n",
    "  if idx % vis_freq == 0:\n",
    "    \n",
    "    image = load_image(os.path.join(WORKSPACE_DIR, 'color', f'{f}.jpg'))\n",
    "    label_frames = []\n",
    "    for model_folder in model_folders:\n",
    "        label = load_label(os.path.join(WORKSPACE_DIR, 'intermediate', model_folder, f'{f}.png'))\n",
    "        label = colorize_label(label, model_folder.split('_')[0])\n",
    "        label_frames.append(label)   \n",
    "    \n",
    "    fig, ax = plt.subplots(1, len(label_frames)+1, figsize=(20, 10))\n",
    "    ax[0].imshow(image)\n",
    "    for jdx, label_frame in enumerate(label_frames):\n",
    "        name = 'consensus' if 'consensus' in model_folders[jdx] else model_folders[jdx].split('_')[1]\n",
    "        ax[jdx+1].imshow(label_frame)\n",
    "        ax[jdx+1].set_title(name, fontsize=10)\n",
    "        \n",
    "    # remove xticks\n",
    "    for axi in ax:\n",
    "        axi.set_xticks([])\n",
    "        axi.set_yticks([])\n",
    "    plt.tight_layout()\n",
    "    plt.show()  \n",
    "      \n",
    "    \n"
   ]
  },
  {
   "cell_type": "code",
   "execution_count": null,
   "metadata": {},
   "outputs": [],
   "source": []
  }
 ],
 "metadata": {
  "kernelspec": {
   "display_name": "labelmaker",
   "language": "python",
   "name": "python3"
  },
  "language_info": {
   "codemirror_mode": {
    "name": "ipython",
    "version": 3
   },
   "file_extension": ".py",
   "mimetype": "text/x-python",
   "name": "python",
   "nbconvert_exporter": "python",
   "pygments_lexer": "ipython3",
   "version": "3.9.18"
  }
 },
 "nbformat": 4,
 "nbformat_minor": 2
}
