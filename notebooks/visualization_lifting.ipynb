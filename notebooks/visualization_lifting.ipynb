{
 "cells": [
  {
   "cell_type": "code",
   "execution_count": null,
   "metadata": {},
   "outputs": [],
   "source": [
    "import cv2\n",
    "import os\n",
    "import glob\n",
    "\n",
    "import numpy as np\n",
    "import matplotlib.pyplot as plt\n",
    "\n",
    "from pathlib import Path\n",
    "from typing import List, Tuple\n",
    "from PIL import Image\n",
    "\n",
    "from labelmaker.consensus import VALID_LABEL_SPACES\n",
    "from labelmaker.label_data import get_nyu40, get_scannet200, get_wordnet, get_ade150"
   ]
  },
  {
   "cell_type": "code",
   "execution_count": null,
   "metadata": {},
   "outputs": [],
   "source": [
    "SCENE_ID=47333462\n",
    "WORKSPACE_DIR = Path(f'/home/weders/scratch/scratch/LabelMaker/arkitscenes/{SCENE_ID}')\n",
    "# WORKSPACE_DIR = '/scratch/quanta/Experiments/LabelMaker/arkit_test_scene'\n",
    "LIFTING_DATA = WORKSPACE_DIR / 'intermediate/sdfstudio_preprocessing'\n"
   ]
  },
  {
   "cell_type": "code",
   "execution_count": null,
   "metadata": {},
   "outputs": [],
   "source": [
    "files = glob.glob(os.path.join(LIFTING_DATA, '*_rgb.png'))\n",
    "files = sorted(files, key=lambda x: int(x.split('/')[-1].split('_')[0]))"
   ]
  },
  {
   "cell_type": "code",
   "execution_count": null,
   "metadata": {},
   "outputs": [],
   "source": [
    "for idx, f in enumerate(files):\n",
    "  if idx > 200:\n",
    "    break\n",
    "  \n",
    "  \n",
    "  image = Image.open(f)\n",
    "  image = np.asarray(image)\n",
    "  \n",
    "  depth = np.load(f.replace('_rgb.png', '_sensor_depth.npy'))\n",
    "\n",
    "  fig, ax = plt.subplots(1, 2)\n",
    "  ax[0].imshow(image)\n",
    "  ax[0].set_xticks([])\n",
    "  ax[0].set_yticks([])\n",
    "  ax[1].imshow(depth)\n",
    "  ax[1].set_xticks([])\n",
    "  ax[1].set_yticks([])\n",
    "  plt.tight_layout()\n",
    "  plt.show()"
   ]
  },
  {
   "cell_type": "code",
   "execution_count": null,
   "metadata": {},
   "outputs": [],
   "source": []
  }
 ],
 "metadata": {
  "kernelspec": {
   "display_name": "labelmaker",
   "language": "python",
   "name": "python3"
  },
  "language_info": {
   "codemirror_mode": {
    "name": "ipython",
    "version": 3
   },
   "file_extension": ".py",
   "mimetype": "text/x-python",
   "name": "python",
   "nbconvert_exporter": "python",
   "pygments_lexer": "ipython3",
   "version": "3.9.18"
  }
 },
 "nbformat": 4,
 "nbformat_minor": 2
}
