{
 "cells": [
  {
   "cell_type": "code",
   "execution_count": null,
   "metadata": {},
   "outputs": [],
   "source": [
    "%%bash\n",
    "rm -rf ../testing/test_scan/intermediate\n"
   ]
  },
  {
   "cell_type": "markdown",
   "metadata": {},
   "source": [
    "## Test Mask3D"
   ]
  },
  {
   "cell_type": "code",
   "execution_count": 1,
   "metadata": {},
   "outputs": [
    {
     "name": "stderr",
     "output_type": "stream",
     "text": [
      "/home/quanta/.conda/envs/labelmaker/lib/python3.10/site-packages/MinkowskiEngine-0.5.4-py3.10-linux-x86_64.egg/MinkowskiEngine/__init__.py:36: UserWarning: The environment variable `OMP_NUM_THREADS` not set. MinkowskiEngine will automatically set `OMP_NUM_THREADS=16`. If you want to set `OMP_NUM_THREADS` manually, please export it on the command line before running a python script. e.g. `export OMP_NUM_THREADS=12; python your_program.py`. It is recommended to set it below 24.\n",
      "  warnings.warn(\n"
     ]
    }
   ],
   "source": [
    "import os\n",
    "import sys\n",
    "from os.path import abspath, dirname, exists, join\n",
    "\n",
    "sys.path.append(abspath('../models/'))\n",
    "sys.path.append(abspath('../'))\n",
    "\n",
    "from models.mask3d_inst import run_rendering, run_mask3d, main, get_model\n"
   ]
  },
  {
   "cell_type": "code",
   "execution_count": 2,
   "metadata": {},
   "outputs": [],
   "source": [
    "import types\n",
    "\n",
    "args = types.SimpleNamespace()\n",
    "args.workspace = '../testing/test_scan/'\n",
    "args.input = 'mesh.ply'\n",
    "args.output = 'intermediate/scannet200_mask3d_1'\n"
   ]
  },
  {
   "cell_type": "code",
   "execution_count": 3,
   "metadata": {},
   "outputs": [
    {
     "name": "stderr",
     "output_type": "stream",
     "text": [
      "/home/quanta/.conda/envs/labelmaker/lib/python3.10/site-packages/hydra/core/utils.py:147: UserWarning: register_resolver() is deprecated.\n",
      "See https://github.com/omry/omegaconf/issues/426 for migration instructions.\n",
      "\n",
      "  OmegaConf.register_resolver(name, f)\n",
      "/home/quanta/.conda/envs/labelmaker/lib/python3.10/site-packages/hydra/utils.py:32: UserWarning: `OmegaConf.is_none()` is deprecated, see https://github.com/omry/omegaconf/issues/547\n",
      "  if OmegaConf.is_none(config):\n"
     ]
    },
    {
     "name": "stdout",
     "output_type": "stream",
     "text": [
      "ANTLR runtime and generated code versions disagree: 4.9.3!=4.8\n",
      "ANTLR runtime and generated code versions disagree: 4.9.3!=4.8\n"
     ]
    },
    {
     "name": "stderr",
     "output_type": "stream",
     "text": [
      "100%|██████████| 1/1 [00:00<00:00,  3.39it/s]\n"
     ]
    }
   ],
   "source": [
    "run_mask3d(args)\n",
    "run_rendering(args)\n"
   ]
  },
  {
   "cell_type": "markdown",
   "metadata": {},
   "source": [
    "## Test Grounded SAM"
   ]
  },
  {
   "cell_type": "code",
   "execution_count": 1,
   "metadata": {},
   "outputs": [
    {
     "name": "stderr",
     "output_type": "stream",
     "text": [
      "/home/quanta/.conda/envs/labelmaker/lib/python3.10/site-packages/tqdm/auto.py:21: TqdmWarning: IProgress not found. Please update jupyter and ipywidgets. See https://ipywidgets.readthedocs.io/en/stable/user_install.html\n",
      "  from .autonotebook import tqdm as notebook_tqdm\n"
     ]
    }
   ],
   "source": [
    "import os\n",
    "import sys\n",
    "from os.path import abspath, dirname, exists, join\n",
    "from pathlib import Path\n",
    "\n",
    "sys.path.append(abspath('../models/'))\n",
    "sys.path.append(abspath('../'))\n",
    "from grounded_sam import run as run_grounded_sam\n"
   ]
  },
  {
   "cell_type": "code",
   "execution_count": 2,
   "metadata": {},
   "outputs": [
    {
     "name": "stderr",
     "output_type": "stream",
     "text": [
      "INFO:Grounded SAM Segmentation:[Grounded SAM] inference in ../testing/test_scan/color\n",
      "INFO:Grounded SAM Segmentation:[Grounded SAM] loading model\n"
     ]
    },
    {
     "name": "stdout",
     "output_type": "stream",
     "text": [
      "/encoder/layer/0/crossattention/self/query is tied\n",
      "/encoder/layer/0/crossattention/self/key is tied\n",
      "/encoder/layer/0/crossattention/self/value is tied\n",
      "/encoder/layer/0/crossattention/output/dense is tied\n",
      "/encoder/layer/0/crossattention/output/LayerNorm is tied\n",
      "/encoder/layer/0/intermediate/dense is tied\n",
      "/encoder/layer/0/output/dense is tied\n",
      "/encoder/layer/0/output/LayerNorm is tied\n",
      "/encoder/layer/1/crossattention/self/query is tied\n",
      "/encoder/layer/1/crossattention/self/key is tied\n",
      "/encoder/layer/1/crossattention/self/value is tied\n",
      "/encoder/layer/1/crossattention/output/dense is tied\n",
      "/encoder/layer/1/crossattention/output/LayerNorm is tied\n",
      "/encoder/layer/1/intermediate/dense is tied\n",
      "/encoder/layer/1/output/dense is tied\n",
      "/encoder/layer/1/output/LayerNorm is tied\n",
      "--------------\n",
      "/home/quanta/Projects/LabelMaker/3rdparty/ram_swin_large_14m.pth\n",
      "--------------\n",
      "load checkpoint from /home/quanta/Projects/LabelMaker/3rdparty/ram_swin_large_14m.pth\n",
      "vit: swin_l\n",
      "final text_encoder_type: bert-base-uncased\n",
      "<All keys matched successfully>\n"
     ]
    },
    {
     "name": "stderr",
     "output_type": "stream",
     "text": [
      "INFO:Grounded SAM Segmentation:[Grounded SAM] model loaded!\n",
      "100%|██████████| 1/1 [00:00<00:00,  1.35it/s]\n"
     ]
    }
   ],
   "source": [
    "input_dir = Path('../testing/test_scan/color')\n",
    "output_dir = Path('../testing/test_scan/intermediate/wordnet_groundedsam_1')\n",
    "run_grounded_sam(input_dir, output_dir, device='cuda:0')\n"
   ]
  },
  {
   "cell_type": "markdown",
   "metadata": {},
   "source": [
    "## Test OVSeg"
   ]
  },
  {
   "cell_type": "code",
   "execution_count": 1,
   "metadata": {},
   "outputs": [
    {
     "name": "stderr",
     "output_type": "stream",
     "text": [
      "/home/quanta/.conda/envs/labelmaker/lib/python3.10/site-packages/tqdm/auto.py:21: TqdmWarning: IProgress not found. Please update jupyter and ipywidgets. See https://ipywidgets.readthedocs.io/en/stable/user_install.html\n",
      "  from .autonotebook import tqdm as notebook_tqdm\n"
     ]
    }
   ],
   "source": [
    "import os\n",
    "import sys\n",
    "from os.path import abspath, dirname, exists, join\n",
    "\n",
    "sys.path.append(abspath('../models/'))\n",
    "sys.path.append(abspath('../'))\n",
    "\n",
    "\n",
    "\n",
    "from ovseg import run as run_ovseg\n"
   ]
  },
  {
   "cell_type": "code",
   "execution_count": 2,
   "metadata": {},
   "outputs": [
    {
     "name": "stderr",
     "output_type": "stream",
     "text": [
      "INFO:OV-Seg Segmentation:[ov-seg] using wn_nodef classes\n",
      "INFO:OV-Seg Segmentation:[ov-seg] inference in ../testing/test_scan/color\n",
      "INFO:OV-Seg Segmentation:[ov-seg] loading model\n",
      "WARNING:fvcore.common.config:Loading config /home/quanta/Projects/LabelMaker/models/../3rdparty/ov-seg/configs/ovseg_swinB_vitL_demo.yaml with yaml.unsafe_load. Your machine may be at risk if the file contains malicious content.\n",
      "/home/quanta/.conda/envs/labelmaker/lib/python3.10/site-packages/torch/functional.py:504: UserWarning: torch.meshgrid: in an upcoming release, it will be required to pass the indexing argument. (Triggered internally at ../aten/src/ATen/native/TensorShape.cpp:3483.)\n",
      "  return _VF.meshgrid(tensors, **kwargs)  # type: ignore[attr-defined]\n",
      "INFO:fvcore.common.checkpoint:[Checkpointer] Loading from /home/quanta/Projects/LabelMaker/models/../3rdparty/ovseg_swinbase_vitL14_ft_mpt.pth ...\n",
      "INFO:OV-Seg Segmentation:[ov-seg] inference\n",
      "100%|██████████| 1/1 [00:08<00:00,  8.27s/it]\n"
     ]
    }
   ],
   "source": [
    "from pathlib import Path\n",
    "\n",
    "input_dir = Path('../testing/test_scan/color')\n",
    "output_dir = Path('../testing/test_scan/intermediate/wn_nodef_ovseg_1')\n",
    "\n",
    "run_ovseg(\n",
    "    input_dir=input_dir,\n",
    "    output_dir=output_dir,\n",
    ")\n"
   ]
  },
  {
   "cell_type": "markdown",
   "metadata": {},
   "source": [
    "## Test InternImage"
   ]
  },
  {
   "cell_type": "code",
   "execution_count": 1,
   "metadata": {},
   "outputs": [
    {
     "name": "stderr",
     "output_type": "stream",
     "text": [
      "/home/quanta/.conda/envs/labelmaker/lib/python3.10/site-packages/tqdm/auto.py:21: TqdmWarning: IProgress not found. Please update jupyter and ipywidgets. See https://ipywidgets.readthedocs.io/en/stable/user_install.html\n",
      "  from .autonotebook import tqdm as notebook_tqdm\n"
     ]
    }
   ],
   "source": [
    "import os\n",
    "import sys\n",
    "from os.path import abspath, dirname, exists, join\n",
    "\n",
    "sys.path.append(abspath('../models/'))\n",
    "sys.path.append(abspath('../'))\n",
    "\n",
    "from internimage import run as run_internimage\n"
   ]
  },
  {
   "cell_type": "code",
   "execution_count": 2,
   "metadata": {},
   "outputs": [
    {
     "name": "stderr",
     "output_type": "stream",
     "text": [
      "INFO:InternImage Segmentation:[internimage] loading model\n",
      "2023-10-19 11:09:34,742 - mmseg - INFO - using core type: DCNv3\n",
      "2023-10-19 11:09:34,742 - mmseg - INFO - using activation layer: GELU\n",
      "2023-10-19 11:09:34,743 - mmseg - INFO - using main norm layer: LN\n",
      "2023-10-19 11:09:34,743 - mmseg - INFO - using dpr: linear, 0.5\n",
      "2023-10-19 11:09:34,743 - mmseg - INFO - level2_post_norm: True\n",
      "2023-10-19 11:09:34,743 - mmseg - INFO - level2_post_norm_block_ids: [5, 11, 17, 23, 29]\n",
      "2023-10-19 11:09:34,743 - mmseg - INFO - res_post_norm: True\n",
      "/home/quanta/Projects/LabelMaker/3rdparty/mmsegmentation/mmseg/models/losses/cross_entropy_loss.py:235: UserWarning: Default ``avg_non_ignore`` is False, if you would like to ignore the certain label and average loss over non-ignore labels, which is the same with PyTorch official cross_entropy, set ``avg_non_ignore=True``.\n",
      "  warnings.warn(\n"
     ]
    },
    {
     "name": "stdout",
     "output_type": "stream",
     "text": [
      "load checkpoint from local path: /home/quanta/Projects/LabelMaker/models/../3rdparty/upernet_internimage_h_896_160k_ade20k.pth\n",
      "\"CLASSES\" not found in meta, use dataset.CLASSES instead\n",
      "\"PALETTE\" not found in meta, use dataset.PALETTE instead\n",
      "[internimage] running inference in ../testing/test_scan/color\n"
     ]
    },
    {
     "name": "stderr",
     "output_type": "stream",
     "text": [
      "100%|██████████| 1/1 [00:00<00:00,  1.40it/s]\n"
     ]
    }
   ],
   "source": [
    "from pathlib import Path\n",
    "\n",
    "workspace = Path('../testing/test_scan')\n",
    "input_dir = workspace / 'color'\n",
    "output_dir = workspace / 'intermediate/ade20k_internimage_1'\n",
    "\n",
    "run_internimage(input_dir, output_dir)\n"
   ]
  },
  {
   "cell_type": "markdown",
   "metadata": {},
   "source": [
    "## Test Omnidata + HHA + CMX"
   ]
  },
  {
   "cell_type": "code",
   "execution_count": 1,
   "metadata": {},
   "outputs": [
    {
     "name": "stderr",
     "output_type": "stream",
     "text": [
      "/home/quanta/.conda/envs/labelmaker/lib/python3.10/site-packages/tqdm/auto.py:21: TqdmWarning: IProgress not found. Please update jupyter and ipywidgets. See https://ipywidgets.readthedocs.io/en/stable/user_install.html\n",
      "  from .autonotebook import tqdm as notebook_tqdm\n"
     ]
    }
   ],
   "source": [
    "import os\n",
    "import sys\n",
    "from os.path import abspath, dirname, exists, join\n",
    "\n",
    "sys.path.append(abspath('../models/'))\n",
    "sys.path.append(abspath('../'))\n",
    "\n",
    "# cannot import all at once...\n",
    "from omnidata import run as run_omnidata\n"
   ]
  },
  {
   "cell_type": "code",
   "execution_count": 2,
   "metadata": {},
   "outputs": [
    {
     "name": "stderr",
     "output_type": "stream",
     "text": [
      "INFO:Omnidata Depth:[omnidepth] loading model\n",
      "INFO:Omnidata Depth:loading model\n",
      "/home/quanta/.conda/envs/labelmaker/lib/python3.10/site-packages/timm/models/_factory.py:114: UserWarning: Mapping deprecated model name vit_base_resnet50_384 to current vit_base_r50_s16_384.orig_in21k_ft_in1k.\n",
      "  model = create_fn(\n",
      "INFO:timm.models._builder:Loading pretrained weights from Hugging Face hub (timm/vit_base_r50_s16_384.orig_in21k_ft_in1k)\n",
      "INFO:timm.models._hub:[timm/vit_base_r50_s16_384.orig_in21k_ft_in1k] Safe alternative available for 'pytorch_model.bin' (as 'model.safetensors'). Loading weights using safetensors.\n",
      "INFO:Omnidata Depth:[omnidepth] running inference\n",
      "100%|██████████| 1/1 [00:00<00:00,  8.04it/s]\n",
      "INFO:Omnidata Depth:[omnidepth] running completion\n",
      "100%|██████████| 1/1 [00:00<00:00, 95.74it/s]\n"
     ]
    }
   ],
   "source": [
    "import types\n",
    "\n",
    "args = types.SimpleNamespace()\n",
    "args.workspace = '../testing/test_scan/'\n",
    "args.input = 'color'\n",
    "args.output = 'intermediate/depth_omnidata_1'\n",
    "\n",
    "run_omnidata(args)\n"
   ]
  },
  {
   "cell_type": "code",
   "execution_count": 1,
   "metadata": {},
   "outputs": [],
   "source": [
    "import os\n",
    "import sys\n",
    "from os.path import abspath, dirname, exists, join\n",
    "\n",
    "sys.path.append(abspath('../models/'))\n",
    "sys.path.append(abspath('../'))\n",
    "\n",
    "# cannot import all at once...\n",
    "from hha_depth import run as run_hha\n"
   ]
  },
  {
   "cell_type": "code",
   "execution_count": 2,
   "metadata": {},
   "outputs": [
    {
     "name": "stderr",
     "output_type": "stream",
     "text": [
      "INFO:Depth to HHA conversion:running depth to hha conversion for scene ../testing/test_scan\n",
      "100%|██████████| 1/1 [00:00<00:00, 188.03it/s]\n"
     ]
    }
   ],
   "source": [
    "import types\n",
    "\n",
    "args = types.SimpleNamespace()\n",
    "args.workspace = '../testing/test_scan/'\n",
    "args.input = 'intermediate/depth_omnidata_1'\n",
    "args.output = 'intermediate/hha'\n",
    "\n",
    "run_hha(args, n_jobs=2)\n"
   ]
  },
  {
   "cell_type": "code",
   "execution_count": 1,
   "metadata": {},
   "outputs": [
    {
     "name": "stderr",
     "output_type": "stream",
     "text": [
      "/home/quanta/.conda/envs/labelmaker/lib/python3.10/site-packages/tqdm/auto.py:21: TqdmWarning: IProgress not found. Please update jupyter and ipywidgets. See https://ipywidgets.readthedocs.io/en/stable/user_install.html\n",
      "  from .autonotebook import tqdm as notebook_tqdm\n"
     ]
    }
   ],
   "source": [
    "import os\n",
    "import sys\n",
    "from os.path import abspath, dirname, exists, join\n",
    "\n",
    "sys.path.append(abspath('../models/'))\n",
    "sys.path.append(abspath('../'))\n",
    "\n",
    "# cannot import all at once...\n",
    "from cmx import run as run_cmx\n"
   ]
  },
  {
   "cell_type": "code",
   "execution_count": 2,
   "metadata": {},
   "outputs": [
    {
     "name": "stderr",
     "output_type": "stream",
     "text": [
      "\u001b[32m19 11:10:00 \u001b[0mloading model\n",
      "\u001b[32m19 11:10:00 \u001b[0mUsing backbone: Segformer-B2\n",
      "\u001b[32m19 11:10:01 \u001b[0mUsing MLP Decoder\n",
      "\u001b[32m19 11:10:01 \u001b[0musing devices 0\n",
      "ln: 无法创建符号链接 '/tmp/fakelog'\u001b[32m19 11:10:01 \u001b[0mLoad Model: /home/quanta/Projects/LabelMaker/3rdparty/NYUDV2_CMX+Segformer-B2.pth\n",
      ": 文件已存在\n",
      "\u001b[32m19 11:10:02 \u001b[0mLoad model, Time usage:\n",
      "\tIO: 0.31441521644592285, initialize parameters: 0.04030108451843262\n",
      "\u001b[32m19 11:10:02 \u001b[0mGPU 0 handle 0 data.\n",
      "0it [00:00, ?it/s]\n",
      "\u001b[32m19 11:10:02 \u001b[0mEvaluation Elapsed Time: 0.00s\n",
      "\u001b[32m19 11:10:02 \u001b[0m[cmx] running inference\n",
      "100%|██████████| 1/1 [00:00<00:00,  5.62it/s]\n"
     ]
    }
   ],
   "source": [
    "import types\n",
    "\n",
    "args = types.SimpleNamespace()\n",
    "args.workspace = '../testing/test_scan/'\n",
    "args.input = 'color'\n",
    "args.output = 'intermediate/depth_omnidata_1'\n",
    "\n",
    "run_cmx(args)\n"
   ]
  },
  {
   "cell_type": "code",
   "execution_count": null,
   "metadata": {},
   "outputs": [],
   "source": []
  }
 ],
 "metadata": {
  "kernelspec": {
   "display_name": "labelmaker-test",
   "language": "python",
   "name": "python3"
  },
  "language_info": {
   "codemirror_mode": {
    "name": "ipython",
    "version": 3
   },
   "file_extension": ".py",
   "mimetype": "text/x-python",
   "name": "python",
   "nbconvert_exporter": "python",
   "pygments_lexer": "ipython3",
   "version": "3.10.13"
  }
 },
 "nbformat": 4,
 "nbformat_minor": 2
}
